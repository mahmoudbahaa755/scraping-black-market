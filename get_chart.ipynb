{
 "cells": [
  {
   "cell_type": "code",
   "execution_count": null,
   "metadata": {},
   "outputs": [],
   "source": [
    "import requests\n",
    "import json\n",
    "from bs4 import BeautifulSoup\n",
    "\n",
    "url='https://www.google.com/finance/quote/SAR-EGP'\n",
    "req= requests.get(url)"
   ]
  },
  {
   "cell_type": "code",
   "execution_count": 3,
   "metadata": {},
   "outputs": [
    {
     "ename": "NameError",
     "evalue": "name 'BeautifulSoup' is not defined",
     "output_type": "error",
     "traceback": [
      "\u001b[1;31m---------------------------------------------------------------------------\u001b[0m",
      "\u001b[1;31mNameError\u001b[0m                                 Traceback (most recent call last)",
      "Cell \u001b[1;32mIn[3], line 5\u001b[0m\n\u001b[0;32m      3\u001b[0m \u001b[38;5;28;01mimport\u001b[39;00m \u001b[38;5;21;01mrequests\u001b[39;00m\n\u001b[0;32m      4\u001b[0m r \u001b[38;5;241m=\u001b[39m \u001b[38;5;28;01mawait\u001b[39;00m session\u001b[38;5;241m.\u001b[39mget(\u001b[38;5;124mf\u001b[39m\u001b[38;5;124m'\u001b[39m\u001b[38;5;124mhttps://www.google.com/finance/quote/SAR-EGP\u001b[39m\u001b[38;5;124m'\u001b[39m)\n\u001b[1;32m----> 5\u001b[0m soup \u001b[38;5;241m=\u001b[39m \u001b[43mBeautifulSoup\u001b[49m(r\u001b[38;5;241m.\u001b[39mhtml\u001b[38;5;241m.\u001b[39mraw_html, features\u001b[38;5;241m=\u001b[39m\u001b[38;5;124m'\u001b[39m\u001b[38;5;124mlxml\u001b[39m\u001b[38;5;124m'\u001b[39m)\n\u001b[0;32m      6\u001b[0m soup\u001b[38;5;241m.\u001b[39mfind(\u001b[38;5;124m'\u001b[39m\u001b[38;5;124mdiv\u001b[39m\u001b[38;5;124m'\u001b[39m,class_\u001b[38;5;241m=\u001b[39m\u001b[38;5;124m'\u001b[39m\u001b[38;5;124mpFZ9G\u001b[39m\u001b[38;5;124m'\u001b[39m)\n",
      "\u001b[1;31mNameError\u001b[0m: name 'BeautifulSoup' is not defined"
     ]
    }
   ],
   "source": [
    "from requests_html import AsyncHTMLSession\n",
    "session = AsyncHTMLSession()\n",
    "import requests\n",
    "r = await session.get(f'https://www.google.com/finance/quote/SAR-EGP')\n",
    "soup = BeautifulSoup(r.html.raw_html, features='lxml')\n",
    "soup.find('div',class_='pFZ9G')"
   ]
  },
  {
   "cell_type": "code",
   "execution_count": null,
   "metadata": {},
   "outputs": [],
   "source": [
    "r.text"
   ]
  },
  {
   "cell_type": "code",
   "execution_count": null,
   "metadata": {},
   "outputs": [],
   "source": [
    "r.content.find('div',class_='pFZ9G')"
   ]
  },
  {
   "cell_type": "code",
   "execution_count": null,
   "metadata": {},
   "outputs": [],
   "source": [
    "from requests_html import AsyncHTMLSession\n",
    "from bs4 import BeautifulSoup\n",
    "\n",
    "async def get_chart_data(link):\n",
    "    session = AsyncHTMLSession()\n",
    "    url = f'https://www.google.com/finance/quote/{link}'\n",
    "    response = await session.get(url)\n",
    "    await response.html.arender(sleep=1)  # Wait for JavaScript to load\n",
    "\n",
    "    soup = BeautifulSoup(response.html.html, 'html.parser')\n",
    "\n",
    "    div = soup.find('div', attrs={'class': 'ushogf', 'aria-hidden': 'true', 'jsname': 'TFpDrb'})\n",
    "    script = soup.find('script', attrs={'type': 'application/json', 'id': 'news-main'})\n",
    "\n",
    "    close_price= soup.find('div', attrs={'class': 'pFZ9G'})\n",
    "    data = close_price.text if close_price else None\n",
    "    return data , div\n",
    "\n",
    "# To call the function, you need to use asyncio.run\n",
    "import asyncio\n",
    "data, div = asyncio.run(get_chart_data('SAR-EGP'))\n",
    "print(data, div)"
   ]
  },
  {
   "cell_type": "code",
   "execution_count": null,
   "metadata": {},
   "outputs": [],
   "source": [
    "import json\n",
    "from selenium import webdriver\n",
    "from bs4 import BeautifulSoup\n",
    "driver = webdriver.Edge()\n",
    "def get_chart_data(link):\n",
    "    url = f'https://www.google.com/finance/quote/{link}'\n",
    "    driver.get(url)\n",
    "    html = driver.page_source\n",
    "    soup = BeautifulSoup(html, 'html.parser')\n",
    "\n",
    "    div = soup.find('div', attrs={'class': 'ushogf', 'aria-hidden': 'true', 'jsname': 'TFpDrb'})\n",
    "    script = soup.find('script', attrs={'type': 'application/json', 'id': 'news-main'})\n",
    "\n",
    "    close_price= soup.find('div', attrs={'class': 'pFZ9G'})\n",
    "    data = close_price.text\n",
    "    return data , div\n",
    "\n",
    "data,div=get_chart_data('SAR-EGP')"
   ]
  },
  {
   "cell_type": "code",
   "execution_count": null,
   "metadata": {},
   "outputs": [],
   "source": [
    "import requests\n",
    "from bs4 import BeautifulSoup\n",
    "\n",
    "def get_chart_data(link):\n",
    "    url = f'https://www.google.com/finance/quote/{link}'\n",
    "    response = requests.get(url)\n",
    "    soup = BeautifulSoup(response.text, 'html.parser')\n",
    "    print(soup)\n",
    "    div = soup.find('div', attrs={'class': 'ushogf', 'aria-hidden': 'true', 'jsname': 'TFpDrb'})\n",
    "    script = soup.find('script', attrs={'type': 'application/json', 'id': 'news-main'})\n",
    "\n",
    "    close_price= soup.find('div', attrs={'class': 'pFZ9G'})\n",
    "    data = close_price.text if close_price else None\n",
    "    return data , div\n",
    "\n",
    "data,div=get_chart_data('SAR-EGP')\n",
    "data,div"
   ]
  },
  {
   "cell_type": "code",
   "execution_count": null,
   "metadata": {},
   "outputs": [],
   "source": [
    "import yfinance as yf\n",
    "\n",
    "msft = yf.Ticker(\"MPFC\")\n"
   ]
  },
  {
   "cell_type": "code",
   "execution_count": null,
   "metadata": {},
   "outputs": [],
   "source": [
    "# data = yf.download(\"GOLD\", period=\"1mo\")\n",
    "# data\n",
    "yf.Ticker(\"GOLD\").history(period=\"1mo\")"
   ]
  },
  {
   "cell_type": "code",
   "execution_count": null,
   "metadata": {},
   "outputs": [],
   "source": [
    "from svglib.svglib import svg2rlg\n",
    "from reportlab.graphics import renderPM\n",
    "import io\n",
    "# assuming 'div' is your div element\n",
    "svg = div.find('svg')\n",
    "\n",
    "if svg:\n",
    "    svg_str = str(svg)\n",
    "    drawing = svg2rlg(io.StringIO(svg_str))\n",
    "    renderPM.drawToFile(drawing, \"chart.png\", fmt=\"PNG\")\n",
    "    print('SVG downloaded and converted to PNG successfully')\n",
    "else:\n",
    "    print('SVG not found in div')"
   ]
  },
  {
   "cell_type": "code",
   "execution_count": null,
   "metadata": {},
   "outputs": [],
   "source": [
    "with open('chart3.svg', 'w', encoding='utf-8') as f:\n",
    "    f.write(str(svg))"
   ]
  },
  {
   "cell_type": "code",
   "execution_count": null,
   "metadata": {},
   "outputs": [],
   "source": [
    "svg"
   ]
  },
  {
   "cell_type": "code",
   "execution_count": null,
   "metadata": {},
   "outputs": [],
   "source": [
    "import cairo\n",
    "import rsvg\n",
    "\n",
    "def convert_svg_to_png(svg_file, output_file):\n",
    "    # Read SVG content\n",
    "    with open(svg_file) as f:\n",
    "        svg_data = f.read()\n",
    "\n",
    "    # Parse SVG to get width and height\n",
    "    doc = minidom.parse(svg_file)\n",
    "    width = int([path.getAttribute('width') for path in doc.getElementsByTagName(\"svg\")][0])\n",
    "    height = int([path.getAttribute('height') for path in doc.getElementsByTagName(\"svg\")][0])\n",
    "\n",
    "    # Create PNG surface\n",
    "    surface = cairo.ImageSurface(cairo.FORMAT_ARGB32, width, height)\n",
    "    context = cairo.Context(surface)\n",
    "\n",
    "    # Render SVG to PNG\n",
    "    handle = rsvg.Handle(None, svg_data)\n",
    "    handle.render_cairo(context)\n",
    "\n",
    "    # Save PNG\n",
    "    surface.write_to_png(output_file)\n",
    "\n",
    "# Example usage\n",
    "svg_file_path = \"chart3.svg\"\n",
    "png_output_path = \"output.png\"\n",
    "convert_svg_to_png(svg_file_path, png_output_path)\n"
   ]
  },
  {
   "cell_type": "code",
   "execution_count": null,
   "metadata": {},
   "outputs": [],
   "source": [
    "# from selenium import webdriver\n",
    "# from bs4 import BeautifulSoup\n",
    "# driver = webdriver.Edge()\n",
    "\n",
    "url = 'https://www.google.com/finance/quote/SAR-EGP'\n",
    "\n",
    "# specify the path to your webdriver\n",
    "\n",
    "driver.get(url)\n",
    "\n",
    "\n",
    "\n",
    "html = driver.page_source\n",
    "soup = BeautifulSoup(html, 'html.parser')\n",
    "\n",
    "div = soup.find('div', attrs={'class': 'ushogf'})\n",
    "close_price= soup.find('div', attrs={'class': 'pFZ9G'})\n",
    "\n",
    "if div:\n",
    "    print(div)\n",
    "else:\n",
    "    print('Div not found')\n",
    "\n",
    "driver.quit()"
   ]
  },
  {
   "cell_type": "code",
   "execution_count": null,
   "metadata": {},
   "outputs": [],
   "source": [
    "close_price.text"
   ]
  },
  {
   "cell_type": "code",
   "execution_count": null,
   "metadata": {},
   "outputs": [],
   "source": [
    "from IPython.display import SVG, display\n",
    "\n",
    "def display_svg(path):\n",
    "    display(SVG(filename=path))\n",
    "\n",
    "display_svg('chart.svg')"
   ]
  },
  {
   "cell_type": "code",
   "execution_count": null,
   "metadata": {},
   "outputs": [],
   "source": []
  }
 ],
 "metadata": {
  "kernelspec": {
   "display_name": "Python 3",
   "language": "python",
   "name": "python3"
  },
  "language_info": {
   "codemirror_mode": {
    "name": "ipython",
    "version": 3
   },
   "file_extension": ".py",
   "mimetype": "text/x-python",
   "name": "python",
   "nbconvert_exporter": "python",
   "pygments_lexer": "ipython3",
   "version": "3.12.2"
  }
 },
 "nbformat": 4,
 "nbformat_minor": 2
}
